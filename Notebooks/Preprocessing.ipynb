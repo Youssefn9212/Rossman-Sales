{
  "nbformat": 4,
  "nbformat_minor": 0,
  "metadata": {
    "colab": {
      "provenance": [],
      "toc_visible": true,
      "machine_shape": "hm",
      "gpuType": "A100"
    },
    "kernelspec": {
      "name": "python3",
      "display_name": "Python 3"
    },
    "language_info": {
      "name": "python"
    },
    "accelerator": "GPU"
  },
  "cells": [
    {
      "cell_type": "markdown",
      "source": [
        "#Preprocessing"
      ],
      "metadata": {
        "id": "BZGhO3Jiuqe2"
      }
    },
    {
      "cell_type": "code",
      "execution_count": null,
      "metadata": {
        "id": "cVaV4_Z-tfO1"
      },
      "outputs": [],
      "source": [
        "import pandas as pd\n",
        "import numpy as np\n",
        "import os\n",
        "from sklearn.preprocessing import LabelEncoder\n",
        "import logging"
      ]
    },
    {
      "cell_type": "code",
      "source": [
        "from google.colab import drive\n",
        "drive.mount('/content/drive')"
      ],
      "metadata": {
        "colab": {
          "base_uri": "https://localhost:8080/"
        },
        "id": "wJOhgmz4tnLM",
        "outputId": "2f0f1d09-2434-4408-a4c4-388492766f31"
      },
      "execution_count": null,
      "outputs": [
        {
          "output_type": "stream",
          "name": "stdout",
          "text": [
            "Mounted at /content/drive\n"
          ]
        }
      ]
    },
    {
      "cell_type": "code",
      "source": [
        "low_memory=False"
      ],
      "metadata": {
        "id": "AA7fl-M1t1sk"
      },
      "execution_count": null,
      "outputs": []
    },
    {
      "cell_type": "code",
      "source": [
        "train_path = '/content/drive/MyDrive/Sales Forecast/train.csv'\n",
        "test_path = '/content/drive/MyDrive/Sales Forecast/test.csv'\n",
        "store_path = '/content/drive/MyDrive/Sales Forecast/store.csv'"
      ],
      "metadata": {
        "id": "wZGmJ7JUt3rK"
      },
      "execution_count": null,
      "outputs": []
    },
    {
      "cell_type": "code",
      "source": [
        "train = pd.read_csv(train_path, parse_dates=['Date'])\n",
        "test = pd.read_csv(test_path, parse_dates=['Date'])\n",
        "store = pd.read_csv(store_path)"
      ],
      "metadata": {
        "id": "nVIgvFg6uRK1",
        "colab": {
          "base_uri": "https://localhost:8080/"
        },
        "outputId": "754af0d3-38a4-406f-a96c-c48af1d39be0"
      },
      "execution_count": null,
      "outputs": [
        {
          "output_type": "stream",
          "name": "stderr",
          "text": [
            "/tmp/ipython-input-5-3583835014.py:1: DtypeWarning: Columns (7) have mixed types. Specify dtype option on import or set low_memory=False.\n",
            "  train = pd.read_csv(train_path, parse_dates=['Date'])\n"
          ]
        }
      ]
    },
    {
      "cell_type": "code",
      "source": [
        "train.isnull().sum()"
      ],
      "metadata": {
        "colab": {
          "base_uri": "https://localhost:8080/",
          "height": 366
        },
        "id": "iZpi2bzmudSB",
        "outputId": "fc466568-071d-4cf3-958b-2526433ca68e"
      },
      "execution_count": null,
      "outputs": [
        {
          "output_type": "execute_result",
          "data": {
            "text/plain": [
              "Store            0\n",
              "DayOfWeek        0\n",
              "Date             0\n",
              "Sales            0\n",
              "Customers        0\n",
              "Open             0\n",
              "Promo            0\n",
              "StateHoliday     0\n",
              "SchoolHoliday    0\n",
              "dtype: int64"
            ],
            "text/html": [
              "<div>\n",
              "<style scoped>\n",
              "    .dataframe tbody tr th:only-of-type {\n",
              "        vertical-align: middle;\n",
              "    }\n",
              "\n",
              "    .dataframe tbody tr th {\n",
              "        vertical-align: top;\n",
              "    }\n",
              "\n",
              "    .dataframe thead th {\n",
              "        text-align: right;\n",
              "    }\n",
              "</style>\n",
              "<table border=\"1\" class=\"dataframe\">\n",
              "  <thead>\n",
              "    <tr style=\"text-align: right;\">\n",
              "      <th></th>\n",
              "      <th>0</th>\n",
              "    </tr>\n",
              "  </thead>\n",
              "  <tbody>\n",
              "    <tr>\n",
              "      <th>Store</th>\n",
              "      <td>0</td>\n",
              "    </tr>\n",
              "    <tr>\n",
              "      <th>DayOfWeek</th>\n",
              "      <td>0</td>\n",
              "    </tr>\n",
              "    <tr>\n",
              "      <th>Date</th>\n",
              "      <td>0</td>\n",
              "    </tr>\n",
              "    <tr>\n",
              "      <th>Sales</th>\n",
              "      <td>0</td>\n",
              "    </tr>\n",
              "    <tr>\n",
              "      <th>Customers</th>\n",
              "      <td>0</td>\n",
              "    </tr>\n",
              "    <tr>\n",
              "      <th>Open</th>\n",
              "      <td>0</td>\n",
              "    </tr>\n",
              "    <tr>\n",
              "      <th>Promo</th>\n",
              "      <td>0</td>\n",
              "    </tr>\n",
              "    <tr>\n",
              "      <th>StateHoliday</th>\n",
              "      <td>0</td>\n",
              "    </tr>\n",
              "    <tr>\n",
              "      <th>SchoolHoliday</th>\n",
              "      <td>0</td>\n",
              "    </tr>\n",
              "  </tbody>\n",
              "</table>\n",
              "</div><br><label><b>dtype:</b> int64</label>"
            ]
          },
          "metadata": {},
          "execution_count": 6
        }
      ]
    },
    {
      "cell_type": "code",
      "source": [
        "test.isnull().sum()"
      ],
      "metadata": {
        "colab": {
          "base_uri": "https://localhost:8080/",
          "height": 335
        },
        "id": "YC0jcbC3uifp",
        "outputId": "93551ada-0414-4d79-8650-538a77740d1f"
      },
      "execution_count": null,
      "outputs": [
        {
          "output_type": "execute_result",
          "data": {
            "text/plain": [
              "Id                0\n",
              "Store             0\n",
              "DayOfWeek         0\n",
              "Date              0\n",
              "Open             11\n",
              "Promo             0\n",
              "StateHoliday      0\n",
              "SchoolHoliday     0\n",
              "dtype: int64"
            ],
            "text/html": [
              "<div>\n",
              "<style scoped>\n",
              "    .dataframe tbody tr th:only-of-type {\n",
              "        vertical-align: middle;\n",
              "    }\n",
              "\n",
              "    .dataframe tbody tr th {\n",
              "        vertical-align: top;\n",
              "    }\n",
              "\n",
              "    .dataframe thead th {\n",
              "        text-align: right;\n",
              "    }\n",
              "</style>\n",
              "<table border=\"1\" class=\"dataframe\">\n",
              "  <thead>\n",
              "    <tr style=\"text-align: right;\">\n",
              "      <th></th>\n",
              "      <th>0</th>\n",
              "    </tr>\n",
              "  </thead>\n",
              "  <tbody>\n",
              "    <tr>\n",
              "      <th>Id</th>\n",
              "      <td>0</td>\n",
              "    </tr>\n",
              "    <tr>\n",
              "      <th>Store</th>\n",
              "      <td>0</td>\n",
              "    </tr>\n",
              "    <tr>\n",
              "      <th>DayOfWeek</th>\n",
              "      <td>0</td>\n",
              "    </tr>\n",
              "    <tr>\n",
              "      <th>Date</th>\n",
              "      <td>0</td>\n",
              "    </tr>\n",
              "    <tr>\n",
              "      <th>Open</th>\n",
              "      <td>11</td>\n",
              "    </tr>\n",
              "    <tr>\n",
              "      <th>Promo</th>\n",
              "      <td>0</td>\n",
              "    </tr>\n",
              "    <tr>\n",
              "      <th>StateHoliday</th>\n",
              "      <td>0</td>\n",
              "    </tr>\n",
              "    <tr>\n",
              "      <th>SchoolHoliday</th>\n",
              "      <td>0</td>\n",
              "    </tr>\n",
              "  </tbody>\n",
              "</table>\n",
              "</div><br><label><b>dtype:</b> int64</label>"
            ]
          },
          "metadata": {},
          "execution_count": 7
        }
      ]
    },
    {
      "cell_type": "code",
      "source": [
        "store.isnull().sum()"
      ],
      "metadata": {
        "colab": {
          "base_uri": "https://localhost:8080/",
          "height": 398
        },
        "id": "oIcvIrnrukqB",
        "outputId": "a5a1ab2e-e06a-4076-ce22-0be6833e8366"
      },
      "execution_count": null,
      "outputs": [
        {
          "output_type": "execute_result",
          "data": {
            "text/plain": [
              "Store                          0\n",
              "StoreType                      0\n",
              "Assortment                     0\n",
              "CompetitionDistance            3\n",
              "CompetitionOpenSinceMonth    354\n",
              "CompetitionOpenSinceYear     354\n",
              "Promo2                         0\n",
              "Promo2SinceWeek              544\n",
              "Promo2SinceYear              544\n",
              "PromoInterval                544\n",
              "dtype: int64"
            ],
            "text/html": [
              "<div>\n",
              "<style scoped>\n",
              "    .dataframe tbody tr th:only-of-type {\n",
              "        vertical-align: middle;\n",
              "    }\n",
              "\n",
              "    .dataframe tbody tr th {\n",
              "        vertical-align: top;\n",
              "    }\n",
              "\n",
              "    .dataframe thead th {\n",
              "        text-align: right;\n",
              "    }\n",
              "</style>\n",
              "<table border=\"1\" class=\"dataframe\">\n",
              "  <thead>\n",
              "    <tr style=\"text-align: right;\">\n",
              "      <th></th>\n",
              "      <th>0</th>\n",
              "    </tr>\n",
              "  </thead>\n",
              "  <tbody>\n",
              "    <tr>\n",
              "      <th>Store</th>\n",
              "      <td>0</td>\n",
              "    </tr>\n",
              "    <tr>\n",
              "      <th>StoreType</th>\n",
              "      <td>0</td>\n",
              "    </tr>\n",
              "    <tr>\n",
              "      <th>Assortment</th>\n",
              "      <td>0</td>\n",
              "    </tr>\n",
              "    <tr>\n",
              "      <th>CompetitionDistance</th>\n",
              "      <td>3</td>\n",
              "    </tr>\n",
              "    <tr>\n",
              "      <th>CompetitionOpenSinceMonth</th>\n",
              "      <td>354</td>\n",
              "    </tr>\n",
              "    <tr>\n",
              "      <th>CompetitionOpenSinceYear</th>\n",
              "      <td>354</td>\n",
              "    </tr>\n",
              "    <tr>\n",
              "      <th>Promo2</th>\n",
              "      <td>0</td>\n",
              "    </tr>\n",
              "    <tr>\n",
              "      <th>Promo2SinceWeek</th>\n",
              "      <td>544</td>\n",
              "    </tr>\n",
              "    <tr>\n",
              "      <th>Promo2SinceYear</th>\n",
              "      <td>544</td>\n",
              "    </tr>\n",
              "    <tr>\n",
              "      <th>PromoInterval</th>\n",
              "      <td>544</td>\n",
              "    </tr>\n",
              "  </tbody>\n",
              "</table>\n",
              "</div><br><label><b>dtype:</b> int64</label>"
            ]
          },
          "metadata": {},
          "execution_count": 8
        }
      ]
    },
    {
      "cell_type": "markdown",
      "source": [
        "##Missing Values"
      ],
      "metadata": {
        "id": "QJiLW0CRunlh"
      }
    },
    {
      "cell_type": "markdown",
      "source": [
        "Checking to see when a store does not participate in a promo"
      ],
      "metadata": {
        "id": "WHLgJvVqu0TB"
      }
    },
    {
      "cell_type": "code",
      "source": [
        "mask = store['Promo2'] == 0\n",
        "store.loc[mask, ['Promo2SinceWeek', 'Promo2SinceYear', 'PromoInterval']].isnull().sum()"
      ],
      "metadata": {
        "colab": {
          "base_uri": "https://localhost:8080/",
          "height": 178
        },
        "id": "3ESKMW09up2A",
        "outputId": "d0471991-3294-4f50-8880-caefcb06e9c9"
      },
      "execution_count": null,
      "outputs": [
        {
          "output_type": "execute_result",
          "data": {
            "text/plain": [
              "Promo2SinceWeek    544\n",
              "Promo2SinceYear    544\n",
              "PromoInterval      544\n",
              "dtype: int64"
            ],
            "text/html": [
              "<div>\n",
              "<style scoped>\n",
              "    .dataframe tbody tr th:only-of-type {\n",
              "        vertical-align: middle;\n",
              "    }\n",
              "\n",
              "    .dataframe tbody tr th {\n",
              "        vertical-align: top;\n",
              "    }\n",
              "\n",
              "    .dataframe thead th {\n",
              "        text-align: right;\n",
              "    }\n",
              "</style>\n",
              "<table border=\"1\" class=\"dataframe\">\n",
              "  <thead>\n",
              "    <tr style=\"text-align: right;\">\n",
              "      <th></th>\n",
              "      <th>0</th>\n",
              "    </tr>\n",
              "  </thead>\n",
              "  <tbody>\n",
              "    <tr>\n",
              "      <th>Promo2SinceWeek</th>\n",
              "      <td>544</td>\n",
              "    </tr>\n",
              "    <tr>\n",
              "      <th>Promo2SinceYear</th>\n",
              "      <td>544</td>\n",
              "    </tr>\n",
              "    <tr>\n",
              "      <th>PromoInterval</th>\n",
              "      <td>544</td>\n",
              "    </tr>\n",
              "  </tbody>\n",
              "</table>\n",
              "</div><br><label><b>dtype:</b> int64</label>"
            ]
          },
          "metadata": {},
          "execution_count": 9
        }
      ]
    },
    {
      "cell_type": "markdown",
      "source": [
        "We will fill these specific NA's with 0, as it makes sense that when a store does not participate in a promo the values of PromoSince & Intervals are 0"
      ],
      "metadata": {
        "id": "Gi35pUMlu9tU"
      }
    },
    {
      "cell_type": "code",
      "source": [
        "store['Promo2SinceWeek'] = store['Promo2SinceWeek'].fillna(0).astype(int)\n",
        "store['Promo2SinceYear'] = store['Promo2SinceYear'].fillna(0).astype(int)"
      ],
      "metadata": {
        "id": "Uwv6lI1pu9SZ"
      },
      "execution_count": null,
      "outputs": []
    },
    {
      "cell_type": "markdown",
      "source": [
        "Label Encoding PromoInterval: I replaced month-based string patterns with numerical categories using the following mapping:\n",
        "   - `'Jan,Apr,Jul,Oct'` → `1`\n",
        "   - `'Feb,May,Aug,Nov'` → `2`\n",
        "   - `'Mar,Jun,Sept,Dec'` → `3`\n",
        "   - No Interval  → `0`\n"
      ],
      "metadata": {
        "id": "R33gC10VvLJC"
      }
    },
    {
      "cell_type": "code",
      "source": [
        "promo_map = {\n",
        "    'Jan,Apr,Jul,Oct': 1,\n",
        "    'Feb,May,Aug,Nov': 2,\n",
        "    'Mar,Jun,Sept,Dec': 3\n",
        "}\n",
        "store['PromoInterval'] = store['PromoInterval'].map(promo_map)\n",
        "store['PromoInterval']= store['PromoInterval'].astype('Int64')\n",
        "store['PromoInterval'].fillna(0, inplace=True)\n"
      ],
      "metadata": {
        "id": "2eW6lvRJvSVN",
        "colab": {
          "base_uri": "https://localhost:8080/"
        },
        "outputId": "05bdf100-8068-42f5-b7c7-83353566ba5f"
      },
      "execution_count": null,
      "outputs": [
        {
          "output_type": "stream",
          "name": "stderr",
          "text": [
            "/tmp/ipython-input-11-85895242.py:8: FutureWarning: A value is trying to be set on a copy of a DataFrame or Series through chained assignment using an inplace method.\n",
            "The behavior will change in pandas 3.0. This inplace method will never work because the intermediate object on which we are setting values always behaves as a copy.\n",
            "\n",
            "For example, when doing 'df[col].method(value, inplace=True)', try using 'df.method({col: value}, inplace=True)' or df[col] = df[col].method(value) instead, to perform the operation inplace on the original object.\n",
            "\n",
            "\n",
            "  store['PromoInterval'].fillna(0, inplace=True)\n"
          ]
        }
      ]
    },
    {
      "cell_type": "markdown",
      "source": [
        "Any store with 0 competition distance means that it does not have competition, hence we impute the competitionopensince with 0"
      ],
      "metadata": {
        "id": "RF3P7Be0vs7X"
      }
    },
    {
      "cell_type": "code",
      "source": [
        "mask = store['CompetitionDistance'].isna()\n",
        "store.loc[mask, ['CompetitionDistance', 'CompetitionOpenSinceMonth', 'CompetitionOpenSinceYear']] = 0"
      ],
      "metadata": {
        "id": "y8tIZTb-vrVY"
      },
      "execution_count": null,
      "outputs": []
    },
    {
      "cell_type": "markdown",
      "source": [
        "Filled Missing Values with -1:  We imputed `NaN` values in the following columns using `-1` as a sentinel value to preserve the fact that the information was missing:\n",
        "   - `CompetitionOpenSinceMonth`\n",
        "   - `CompetitionOpenSinceYear`"
      ],
      "metadata": {
        "id": "fWQaGmhkwE7W"
      }
    },
    {
      "cell_type": "code",
      "source": [
        "#Impute missing values with sentinel (-1) to preserve interpretability\n",
        "store['CompetitionOpenSinceMonth'] = store['CompetitionOpenSinceMonth'].fillna(-1).astype(int)\n",
        "store['CompetitionOpenSinceYear'] = store['CompetitionOpenSinceYear'].fillna(-1).astype(int)"
      ],
      "metadata": {
        "id": "7nPt4tqlvwE3"
      },
      "execution_count": null,
      "outputs": []
    },
    {
      "cell_type": "code",
      "source": [
        "store.isnull().sum()"
      ],
      "metadata": {
        "colab": {
          "base_uri": "https://localhost:8080/",
          "height": 398
        },
        "id": "F4bP3Qs4wMjn",
        "outputId": "fe61c159-5ee6-48d0-c52f-d3d436731e10"
      },
      "execution_count": null,
      "outputs": [
        {
          "output_type": "execute_result",
          "data": {
            "text/plain": [
              "Store                        0\n",
              "StoreType                    0\n",
              "Assortment                   0\n",
              "CompetitionDistance          0\n",
              "CompetitionOpenSinceMonth    0\n",
              "CompetitionOpenSinceYear     0\n",
              "Promo2                       0\n",
              "Promo2SinceWeek              0\n",
              "Promo2SinceYear              0\n",
              "PromoInterval                0\n",
              "dtype: int64"
            ],
            "text/html": [
              "<div>\n",
              "<style scoped>\n",
              "    .dataframe tbody tr th:only-of-type {\n",
              "        vertical-align: middle;\n",
              "    }\n",
              "\n",
              "    .dataframe tbody tr th {\n",
              "        vertical-align: top;\n",
              "    }\n",
              "\n",
              "    .dataframe thead th {\n",
              "        text-align: right;\n",
              "    }\n",
              "</style>\n",
              "<table border=\"1\" class=\"dataframe\">\n",
              "  <thead>\n",
              "    <tr style=\"text-align: right;\">\n",
              "      <th></th>\n",
              "      <th>0</th>\n",
              "    </tr>\n",
              "  </thead>\n",
              "  <tbody>\n",
              "    <tr>\n",
              "      <th>Store</th>\n",
              "      <td>0</td>\n",
              "    </tr>\n",
              "    <tr>\n",
              "      <th>StoreType</th>\n",
              "      <td>0</td>\n",
              "    </tr>\n",
              "    <tr>\n",
              "      <th>Assortment</th>\n",
              "      <td>0</td>\n",
              "    </tr>\n",
              "    <tr>\n",
              "      <th>CompetitionDistance</th>\n",
              "      <td>0</td>\n",
              "    </tr>\n",
              "    <tr>\n",
              "      <th>CompetitionOpenSinceMonth</th>\n",
              "      <td>0</td>\n",
              "    </tr>\n",
              "    <tr>\n",
              "      <th>CompetitionOpenSinceYear</th>\n",
              "      <td>0</td>\n",
              "    </tr>\n",
              "    <tr>\n",
              "      <th>Promo2</th>\n",
              "      <td>0</td>\n",
              "    </tr>\n",
              "    <tr>\n",
              "      <th>Promo2SinceWeek</th>\n",
              "      <td>0</td>\n",
              "    </tr>\n",
              "    <tr>\n",
              "      <th>Promo2SinceYear</th>\n",
              "      <td>0</td>\n",
              "    </tr>\n",
              "    <tr>\n",
              "      <th>PromoInterval</th>\n",
              "      <td>0</td>\n",
              "    </tr>\n",
              "  </tbody>\n",
              "</table>\n",
              "</div><br><label><b>dtype:</b> int64</label>"
            ]
          },
          "metadata": {},
          "execution_count": 14
        }
      ]
    },
    {
      "cell_type": "markdown",
      "source": [
        "Since there are no missing values in all 3 datasets, I will move on to label encoding and any other preprocessing steps neeeded."
      ],
      "metadata": {
        "id": "2AUVDLHqwP1M"
      }
    },
    {
      "cell_type": "markdown",
      "source": [
        "##Label Encoding"
      ],
      "metadata": {
        "id": "FSPqVwm2wZ5o"
      }
    },
    {
      "cell_type": "code",
      "source": [
        "print(\"\\nData types in train DataFrame:\")\n",
        "print(train.dtypes)\n",
        "print(\"\\nData types in test DataFrame:\")\n",
        "print(test.dtypes)\n",
        "print(\"\\nData types in store DataFrame:\")\n",
        "store.dtypes"
      ],
      "metadata": {
        "colab": {
          "base_uri": "https://localhost:8080/",
          "height": 844
        },
        "id": "yTtpm6fCxVXD",
        "outputId": "91c387b0-a0d6-4126-e327-ca319c4ad175"
      },
      "execution_count": null,
      "outputs": [
        {
          "output_type": "stream",
          "name": "stdout",
          "text": [
            "\n",
            "Data types in train DataFrame:\n",
            "Store                     int64\n",
            "DayOfWeek                 int64\n",
            "Date             datetime64[ns]\n",
            "Sales                     int64\n",
            "Customers                 int64\n",
            "Open                      int64\n",
            "Promo                     int64\n",
            "StateHoliday             object\n",
            "SchoolHoliday             int64\n",
            "dtype: object\n",
            "\n",
            "Data types in test DataFrame:\n",
            "Id                        int64\n",
            "Store                     int64\n",
            "DayOfWeek                 int64\n",
            "Date             datetime64[ns]\n",
            "Open                    float64\n",
            "Promo                     int64\n",
            "StateHoliday             object\n",
            "SchoolHoliday             int64\n",
            "dtype: object\n",
            "\n",
            "Data types in store DataFrame:\n"
          ]
        },
        {
          "output_type": "execute_result",
          "data": {
            "text/plain": [
              "Store                          int64\n",
              "StoreType                     object\n",
              "Assortment                    object\n",
              "CompetitionDistance          float64\n",
              "CompetitionOpenSinceMonth      int64\n",
              "CompetitionOpenSinceYear       int64\n",
              "Promo2                         int64\n",
              "Promo2SinceWeek                int64\n",
              "Promo2SinceYear                int64\n",
              "PromoInterval                  Int64\n",
              "dtype: object"
            ],
            "text/html": [
              "<div>\n",
              "<style scoped>\n",
              "    .dataframe tbody tr th:only-of-type {\n",
              "        vertical-align: middle;\n",
              "    }\n",
              "\n",
              "    .dataframe tbody tr th {\n",
              "        vertical-align: top;\n",
              "    }\n",
              "\n",
              "    .dataframe thead th {\n",
              "        text-align: right;\n",
              "    }\n",
              "</style>\n",
              "<table border=\"1\" class=\"dataframe\">\n",
              "  <thead>\n",
              "    <tr style=\"text-align: right;\">\n",
              "      <th></th>\n",
              "      <th>0</th>\n",
              "    </tr>\n",
              "  </thead>\n",
              "  <tbody>\n",
              "    <tr>\n",
              "      <th>Store</th>\n",
              "      <td>int64</td>\n",
              "    </tr>\n",
              "    <tr>\n",
              "      <th>StoreType</th>\n",
              "      <td>object</td>\n",
              "    </tr>\n",
              "    <tr>\n",
              "      <th>Assortment</th>\n",
              "      <td>object</td>\n",
              "    </tr>\n",
              "    <tr>\n",
              "      <th>CompetitionDistance</th>\n",
              "      <td>float64</td>\n",
              "    </tr>\n",
              "    <tr>\n",
              "      <th>CompetitionOpenSinceMonth</th>\n",
              "      <td>int64</td>\n",
              "    </tr>\n",
              "    <tr>\n",
              "      <th>CompetitionOpenSinceYear</th>\n",
              "      <td>int64</td>\n",
              "    </tr>\n",
              "    <tr>\n",
              "      <th>Promo2</th>\n",
              "      <td>int64</td>\n",
              "    </tr>\n",
              "    <tr>\n",
              "      <th>Promo2SinceWeek</th>\n",
              "      <td>int64</td>\n",
              "    </tr>\n",
              "    <tr>\n",
              "      <th>Promo2SinceYear</th>\n",
              "      <td>int64</td>\n",
              "    </tr>\n",
              "    <tr>\n",
              "      <th>PromoInterval</th>\n",
              "      <td>Int64</td>\n",
              "    </tr>\n",
              "  </tbody>\n",
              "</table>\n",
              "</div><br><label><b>dtype:</b> object</label>"
            ]
          },
          "metadata": {},
          "execution_count": 15
        }
      ]
    },
    {
      "cell_type": "markdown",
      "metadata": {
        "id": "670b087f"
      },
      "source": [
        "The `LabelEncoder` was used to convert the categorical values in the 'StoreType' and 'Assortment' columns into numerical labels. The mapping is as follows:\n",
        "\n",
        "**StoreType:**\n",
        "- 'a' is mapped to 0\n",
        "- 'b' is mapped to 1\n",
        "- 'c' is mapped to 2\n",
        "- 'd' is mapped to 3\n",
        "\n",
        "**Assortment:**\n",
        "- 'a' is mapped to 0\n",
        "- 'b' is mapped to 1\n",
        "- 'c' is mapped to 2"
      ]
    },
    {
      "cell_type": "code",
      "source": [
        "le = LabelEncoder()\n",
        "\n",
        "store['StoreType'] = le.fit_transform(store['StoreType'])\n",
        "store['Assortment'] = le.fit_transform(store['Assortment'])\n",
        "\n",
        "print(store[['StoreType', 'Assortment']].head())\n"
      ],
      "metadata": {
        "colab": {
          "base_uri": "https://localhost:8080/"
        },
        "id": "KIBBKMqFxo_S",
        "outputId": "4bced121-cdf4-4841-9c51-a65bac426957"
      },
      "execution_count": null,
      "outputs": [
        {
          "output_type": "stream",
          "name": "stdout",
          "text": [
            "   StoreType  Assortment\n",
            "0          2           0\n",
            "1          0           0\n",
            "2          0           0\n",
            "3          2           2\n",
            "4          0           0\n"
          ]
        }
      ]
    },
    {
      "cell_type": "code",
      "source": [
        "sales_train = train.merge(store, on='Store', how='left')\n",
        "sales_test = test.merge(store, on='Store', how='left')"
      ],
      "metadata": {
        "id": "W9UIhtMBx009"
      },
      "execution_count": null,
      "outputs": []
    },
    {
      "cell_type": "code",
      "source": [
        "print(\"\\nData types in train DataFrame:\")\n",
        "print(sales_train.dtypes)\n",
        "print(\"\\nData types in test DataFrame:\")\n",
        "print(sales_test.dtypes)"
      ],
      "metadata": {
        "colab": {
          "base_uri": "https://localhost:8080/"
        },
        "id": "eULi5AC_yLAE",
        "outputId": "b9c90ea0-a52c-4e52-c7a2-4c82132f8962"
      },
      "execution_count": null,
      "outputs": [
        {
          "output_type": "stream",
          "name": "stdout",
          "text": [
            "\n",
            "Data types in train DataFrame:\n",
            "Store                                 int64\n",
            "DayOfWeek                             int64\n",
            "Date                         datetime64[ns]\n",
            "Sales                                 int64\n",
            "Customers                             int64\n",
            "Open                                  int64\n",
            "Promo                                 int64\n",
            "StateHoliday                         object\n",
            "SchoolHoliday                         int64\n",
            "StoreType                             int64\n",
            "Assortment                            int64\n",
            "CompetitionDistance                 float64\n",
            "CompetitionOpenSinceMonth             int64\n",
            "CompetitionOpenSinceYear              int64\n",
            "Promo2                                int64\n",
            "Promo2SinceWeek                       int64\n",
            "Promo2SinceYear                       int64\n",
            "PromoInterval                         Int64\n",
            "dtype: object\n",
            "\n",
            "Data types in test DataFrame:\n",
            "Id                                    int64\n",
            "Store                                 int64\n",
            "DayOfWeek                             int64\n",
            "Date                         datetime64[ns]\n",
            "Open                                float64\n",
            "Promo                                 int64\n",
            "StateHoliday                         object\n",
            "SchoolHoliday                         int64\n",
            "StoreType                             int64\n",
            "Assortment                            int64\n",
            "CompetitionDistance                 float64\n",
            "CompetitionOpenSinceMonth             int64\n",
            "CompetitionOpenSinceYear              int64\n",
            "Promo2                                int64\n",
            "Promo2SinceWeek                       int64\n",
            "Promo2SinceYear                       int64\n",
            "PromoInterval                         Int64\n",
            "dtype: object\n"
          ]
        }
      ]
    },
    {
      "cell_type": "markdown",
      "metadata": {
        "id": "280f3985"
      },
      "source": [
        "The `StateHoliday` column was label encoded using the following mapping:\n",
        "\n",
        "**StateHoliday:**\n",
        "- '0' (no holiday) is mapped to 0\n",
        "- 'a' (public holiday) is mapped to 1\n",
        "- 'b' (Easter holiday) is mapped to 2\n",
        "- 'c' (Christmas) is mapped to 3"
      ]
    },
    {
      "cell_type": "code",
      "source": [
        "holiday_map = {\n",
        "    '0': 0,  # '0' as string\n",
        "    'a': 1,\n",
        "    'b': 2,\n",
        "    'c': 3\n",
        "}\n",
        "\n",
        "sales_train['StateHoliday'] = sales_train['StateHoliday'].replace(0, '0')\n",
        "sales_test['StateHoliday'] = sales_test['StateHoliday'].replace(0, '0')\n",
        "\n",
        "\n",
        "sales_train['StateHoliday'] = sales_train['StateHoliday'].map(holiday_map).astype(int)\n",
        "sales_test['StateHoliday'] = sales_test['StateHoliday'].map(holiday_map).astype(int)"
      ],
      "metadata": {
        "id": "Rb1JfipSyeDS"
      },
      "execution_count": null,
      "outputs": []
    },
    {
      "cell_type": "code",
      "source": [
        "print(\"\\nData types in train DataFrame:\")\n",
        "print(sales_train.dtypes)\n",
        "print(\"\\nData types in test DataFrame:\")\n",
        "print(sales_test.dtypes)"
      ],
      "metadata": {
        "colab": {
          "base_uri": "https://localhost:8080/"
        },
        "id": "8VAI_bB-zK1y",
        "outputId": "6482a9ad-9519-452b-9b4b-b3d9a63e03c0"
      },
      "execution_count": null,
      "outputs": [
        {
          "output_type": "stream",
          "name": "stdout",
          "text": [
            "\n",
            "Data types in train DataFrame:\n",
            "Store                                 int64\n",
            "DayOfWeek                             int64\n",
            "Date                         datetime64[ns]\n",
            "Sales                                 int64\n",
            "Customers                             int64\n",
            "Open                                  int64\n",
            "Promo                                 int64\n",
            "StateHoliday                          int64\n",
            "SchoolHoliday                         int64\n",
            "StoreType                             int64\n",
            "Assortment                            int64\n",
            "CompetitionDistance                 float64\n",
            "CompetitionOpenSinceMonth             int64\n",
            "CompetitionOpenSinceYear              int64\n",
            "Promo2                                int64\n",
            "Promo2SinceWeek                       int64\n",
            "Promo2SinceYear                       int64\n",
            "PromoInterval                         Int64\n",
            "dtype: object\n",
            "\n",
            "Data types in test DataFrame:\n",
            "Id                                    int64\n",
            "Store                                 int64\n",
            "DayOfWeek                             int64\n",
            "Date                         datetime64[ns]\n",
            "Open                                float64\n",
            "Promo                                 int64\n",
            "StateHoliday                          int64\n",
            "SchoolHoliday                         int64\n",
            "StoreType                             int64\n",
            "Assortment                            int64\n",
            "CompetitionDistance                 float64\n",
            "CompetitionOpenSinceMonth             int64\n",
            "CompetitionOpenSinceYear              int64\n",
            "Promo2                                int64\n",
            "Promo2SinceWeek                       int64\n",
            "Promo2SinceYear                       int64\n",
            "PromoInterval                         Int64\n",
            "dtype: object\n"
          ]
        }
      ]
    },
    {
      "cell_type": "code",
      "source": [
        "print(\"\\nUnique values in 'Open' column of sales_test:\")\n",
        "print(sales_test['Open'].unique())"
      ],
      "metadata": {
        "colab": {
          "base_uri": "https://localhost:8080/"
        },
        "id": "B43n4Lp6zP2Z",
        "outputId": "4c134d32-3edd-4206-a365-b3142ca19641"
      },
      "execution_count": null,
      "outputs": [
        {
          "output_type": "stream",
          "name": "stdout",
          "text": [
            "\n",
            "Unique values in 'Open' column of sales_test:\n",
            "[ 1. nan  0.]\n"
          ]
        }
      ]
    },
    {
      "cell_type": "code",
      "source": [
        "print(\"\\nValue counts for 'Open' column in sales_test:\")\n",
        "print(sales_test['Open'].value_counts())"
      ],
      "metadata": {
        "colab": {
          "base_uri": "https://localhost:8080/"
        },
        "id": "dT_5eSG_zX7l",
        "outputId": "f3697fd1-ed27-43e0-dd17-c52bfa334c75"
      },
      "execution_count": null,
      "outputs": [
        {
          "output_type": "stream",
          "name": "stdout",
          "text": [
            "\n",
            "Value counts for 'Open' column in sales_test:\n",
            "Open\n",
            "1.0    35093\n",
            "0.0     5984\n",
            "Name: count, dtype: int64\n"
          ]
        }
      ]
    },
    {
      "cell_type": "markdown",
      "source": [
        "If Open is missing in the test set, assume the store is open (Open = 1), unless it’s a Sunday (DayOfWeek == 7), in which case default to closed (Open = 0)."
      ],
      "metadata": {
        "id": "BOOMH0_I2A4v"
      }
    },
    {
      "cell_type": "code",
      "source": [
        "sales_test['Open'] = test.apply(\n",
        "    lambda row: 0 if pd.isna(row['Open']) and row['DayOfWeek'] == 7 else (1 if pd.isna(row['Open']) else row['Open']),\n",
        "    axis=1\n",
        ")"
      ],
      "metadata": {
        "id": "KW_e7d5vzgwS"
      },
      "execution_count": null,
      "outputs": []
    },
    {
      "cell_type": "code",
      "source": [
        "sales_test['Open'] = sales_test['Open'].astype(int)"
      ],
      "metadata": {
        "id": "Q0EfLfgK2HZ6"
      },
      "execution_count": null,
      "outputs": []
    },
    {
      "cell_type": "code",
      "source": [
        "print(\"\\nData types in train DataFrame:\")\n",
        "print(sales_train.dtypes)\n",
        "print(\"\\nData types in test DataFrame:\")\n",
        "print(sales_test.dtypes)"
      ],
      "metadata": {
        "colab": {
          "base_uri": "https://localhost:8080/"
        },
        "id": "Iuv77ci22CfN",
        "outputId": "d9ceb529-897a-4efe-f308-19d18a788c9c"
      },
      "execution_count": null,
      "outputs": [
        {
          "output_type": "stream",
          "name": "stdout",
          "text": [
            "\n",
            "Data types in train DataFrame:\n",
            "Store                                 int64\n",
            "DayOfWeek                             int64\n",
            "Date                         datetime64[ns]\n",
            "Sales                                 int64\n",
            "Customers                             int64\n",
            "Open                                  int64\n",
            "Promo                                 int64\n",
            "StateHoliday                          int64\n",
            "SchoolHoliday                         int64\n",
            "StoreType                             int64\n",
            "Assortment                            int64\n",
            "CompetitionDistance                 float64\n",
            "CompetitionOpenSinceMonth             int64\n",
            "CompetitionOpenSinceYear              int64\n",
            "Promo2                                int64\n",
            "Promo2SinceWeek                       int64\n",
            "Promo2SinceYear                       int64\n",
            "PromoInterval                         Int64\n",
            "dtype: object\n",
            "\n",
            "Data types in test DataFrame:\n",
            "Id                                    int64\n",
            "Store                                 int64\n",
            "DayOfWeek                             int64\n",
            "Date                         datetime64[ns]\n",
            "Open                                  int64\n",
            "Promo                                 int64\n",
            "StateHoliday                          int64\n",
            "SchoolHoliday                         int64\n",
            "StoreType                             int64\n",
            "Assortment                            int64\n",
            "CompetitionDistance                 float64\n",
            "CompetitionOpenSinceMonth             int64\n",
            "CompetitionOpenSinceYear              int64\n",
            "Promo2                                int64\n",
            "Promo2SinceWeek                       int64\n",
            "Promo2SinceYear                       int64\n",
            "PromoInterval                         Int64\n",
            "dtype: object\n"
          ]
        }
      ]
    },
    {
      "cell_type": "code",
      "source": [
        "train_cols = set(sales_train.columns)\n",
        "test_cols = set(sales_test.columns)\n",
        "\n",
        "# Find columns in training set that are not in test set\n",
        "cols_in_train_not_in_test = list(train_cols - test_cols)\n",
        "\n",
        "print(\"Columns in training set not present in test set:\")\n",
        "cols_in_train_not_in_test"
      ],
      "metadata": {
        "colab": {
          "base_uri": "https://localhost:8080/"
        },
        "id": "fJOTA1IC2WxN",
        "outputId": "36004542-c04f-498f-b4ac-06f425064429"
      },
      "execution_count": null,
      "outputs": [
        {
          "output_type": "stream",
          "name": "stdout",
          "text": [
            "Columns in training set not present in test set:\n"
          ]
        },
        {
          "output_type": "execute_result",
          "data": {
            "text/plain": [
              "['Sales', 'Customers']"
            ]
          },
          "metadata": {},
          "execution_count": 26
        }
      ]
    },
    {
      "cell_type": "markdown",
      "source": [
        "we will drop customers as it is not in testing environment"
      ],
      "metadata": {
        "id": "I-Q2rlIv2e8Q"
      }
    },
    {
      "cell_type": "code",
      "source": [
        "sales_train = sales_train.drop('Customers', axis=1)"
      ],
      "metadata": {
        "id": "84akLmjP2h62"
      },
      "execution_count": null,
      "outputs": []
    },
    {
      "cell_type": "markdown",
      "source": [
        "tranforming sales"
      ],
      "metadata": {
        "id": "8DPsqgBSH1En"
      }
    },
    {
      "cell_type": "code",
      "source": [
        "sales_train['Sales'] = np.log1p(sales_train['Sales'])"
      ],
      "metadata": {
        "id": "3oTHn5KrHflx"
      },
      "execution_count": null,
      "outputs": []
    },
    {
      "cell_type": "code",
      "source": [
        "sales_train['DateInt'] = (sales_train['Date'] - pd.to_datetime(\"2013-01-01\")).dt.days"
      ],
      "metadata": {
        "id": "3E3kI_SnHnxa"
      },
      "execution_count": null,
      "outputs": []
    },
    {
      "cell_type": "markdown",
      "source": [
        "##Saving Training & Testing"
      ],
      "metadata": {
        "id": "W7QyFW7o2lSS"
      }
    },
    {
      "cell_type": "code",
      "source": [
        "sales_train.to_csv('/content/drive/MyDrive/Sales Forecast/train_processed1.csv', index=False)\n",
        "sales_test.to_csv('/content/drive/MyDrive/Sales Forecast/test_processed1.csv', index=False)"
      ],
      "metadata": {
        "id": "w033CPiH2o-Z"
      },
      "execution_count": null,
      "outputs": []
    }
  ]
}