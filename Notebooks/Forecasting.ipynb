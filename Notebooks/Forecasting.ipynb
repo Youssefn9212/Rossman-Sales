{
  "nbformat": 4,
  "nbformat_minor": 0,
  "metadata": {
    "colab": {
      "provenance": [],
      "machine_shape": "hm",
      "gpuType": "A100"
    },
    "kernelspec": {
      "name": "python3",
      "display_name": "Python 3"
    },
    "language_info": {
      "name": "python"
    },
    "accelerator": "GPU"
  },
  "cells": [
    {
      "cell_type": "code",
      "execution_count": 1,
      "metadata": {
        "id": "Q7wPvAHbx6Gf"
      },
      "outputs": [],
      "source": [
        "import pandas as pd\n",
        "import numpy as np\n",
        "import joblib\n",
        "import xgboost as xgb\n",
        "from tensorflow.keras.models import load_model\n",
        "from sklearn.preprocessing import StandardScaler\n",
        "import os"
      ]
    },
    {
      "cell_type": "code",
      "source": [
        "from google.colab import drive\n",
        "drive.mount('/content/drive')"
      ],
      "metadata": {
        "colab": {
          "base_uri": "https://localhost:8080/"
        },
        "id": "_GjRLX07x-c_",
        "outputId": "e07ed0a5-60bd-40b5-a370-ca5ddc4bd258"
      },
      "execution_count": 2,
      "outputs": [
        {
          "output_type": "stream",
          "name": "stdout",
          "text": [
            "Mounted at /content/drive\n"
          ]
        }
      ]
    },
    {
      "cell_type": "code",
      "source": [
        "ensemble_dir = \"/content/drive/MyDrive/Sales Forecast/ensemble_xgb_cnn\"\n",
        "ensemble_meta = joblib.load(f\"{ensemble_dir}/ensemble_meta.pkl\")\n",
        "\n",
        "model_xgb = xgb.Booster()\n",
        "model_xgb.load_model(ensemble_meta['model_xgb_path'])\n",
        "\n",
        "model_cnnlstm = load_model(ensemble_meta['model_cnnlstm_path'])\n",
        "scaler = joblib.load(ensemble_meta['scaler_path'])"
      ],
      "metadata": {
        "id": "nkqcxUpyyAvW"
      },
      "execution_count": 3,
      "outputs": []
    },
    {
      "cell_type": "code",
      "source": [
        "test = pd.read_csv(\"/content/drive/MyDrive/Sales Forecast/test_processed1.csv\", parse_dates=['Date'])\n",
        "sample_submission = pd.read_csv(\"/content/drive/MyDrive/Sales Forecast/sample_submission.csv\")"
      ],
      "metadata": {
        "id": "Skoucn4cyDsA"
      },
      "execution_count": 4,
      "outputs": []
    },
    {
      "cell_type": "code",
      "source": [
        "test.columns.tolist()"
      ],
      "metadata": {
        "colab": {
          "base_uri": "https://localhost:8080/"
        },
        "id": "wc4w7aKnznd4",
        "outputId": "f6546125-e3e5-41ad-f2d6-8b95a01931ce"
      },
      "execution_count": 5,
      "outputs": [
        {
          "output_type": "execute_result",
          "data": {
            "text/plain": [
              "['Id',\n",
              " 'Store',\n",
              " 'DayOfWeek',\n",
              " 'Date',\n",
              " 'Open',\n",
              " 'Promo',\n",
              " 'StateHoliday',\n",
              " 'SchoolHoliday',\n",
              " 'StoreType',\n",
              " 'Assortment',\n",
              " 'CompetitionDistance',\n",
              " 'CompetitionOpenSinceMonth',\n",
              " 'CompetitionOpenSinceYear',\n",
              " 'Promo2',\n",
              " 'Promo2SinceWeek',\n",
              " 'Promo2SinceYear',\n",
              " 'PromoInterval']"
            ]
          },
          "metadata": {},
          "execution_count": 5
        }
      ]
    },
    {
      "cell_type": "code",
      "source": [
        "def apply_feature_engineering(df):\n",
        "    df = df.copy()\n",
        "\n",
        "    df['DateInt'] = df['Date'].astype(np.int64) // 10**9\n",
        "    df['Year'] = df['Date'].dt.year\n",
        "    df['Month'] = df['Date'].dt.month\n",
        "    df['Day'] = df['Date'].dt.day\n",
        "    df['DayOfYear'] = df['Date'].dt.dayofyear\n",
        "    df['WeekOfYear'] = df['Date'].dt.isocalendar().week.astype(int)\n",
        "    df['IsWeekend'] = df['DayOfWeek'].isin([6, 7]).astype(int)\n",
        "    df['Quarter'] = df['Date'].dt.quarter\n",
        "    df['IsMonthStart'] = df['Date'].dt.is_month_start.astype(int)\n",
        "    df['IsMonthEnd'] = df['Date'].dt.is_month_end.astype(int)\n",
        "\n",
        "    df['CompetitionOpenSince'] = (\n",
        "        12 * (df['Year'] - df['CompetitionOpenSinceYear']) +\n",
        "        (df['Month'] - df['CompetitionOpenSinceMonth'])\n",
        "    ).clip(lower=0)\n",
        "\n",
        "    df['Promo2Since'] = (\n",
        "        52 * (df['Year'] - df['Promo2SinceYear']) +\n",
        "        (df['WeekOfYear'] - df['Promo2SinceWeek'])\n",
        "    ).clip(lower=0)\n",
        "\n",
        "    df['IsPromo2Month'] = 0\n",
        "    promo_month_map = {\n",
        "        1: [1, 4, 7, 10],\n",
        "        2: [2, 5, 8, 11],\n",
        "        3: [3, 6, 9, 12]\n",
        "    }\n",
        "    for interval_code, months in promo_month_map.items():\n",
        "        df.loc[(df['PromoInterval'] == interval_code) & (df['Month'].isin(months)), 'IsPromo2Month'] = 1\n",
        "\n",
        "    selected_columns = [\n",
        "        'Store', 'DayOfWeek', 'Date', 'Open', 'Promo', 'StateHoliday', 'SchoolHoliday',\n",
        "        'StoreType', 'Assortment', 'CompetitionDistance', 'CompetitionOpenSinceMonth',\n",
        "        'CompetitionOpenSinceYear', 'Promo2', 'Promo2SinceWeek', 'Promo2SinceYear',\n",
        "        'PromoInterval', 'DateInt', 'Year', 'Month', 'Day', 'DayOfYear', 'WeekOfYear',\n",
        "        'IsWeekend', 'Quarter', 'IsMonthStart', 'IsMonthEnd', 'CompetitionOpenSince',\n",
        "        'Promo2Since', 'IsPromo2Month'\n",
        "    ]\n",
        "    return df[[col for col in selected_columns if col in df.columns]]"
      ],
      "metadata": {
        "id": "ICtmpZsryIjd"
      },
      "execution_count": 6,
      "outputs": []
    },
    {
      "cell_type": "code",
      "source": [
        "test_fe = apply_feature_engineering(test)\n",
        "test_fe = test_fe.bfill().reset_index(drop=True)"
      ],
      "metadata": {
        "id": "TwtEuG-DyLwS"
      },
      "execution_count": 7,
      "outputs": []
    },
    {
      "cell_type": "code",
      "source": [
        "# Prepare tabular input for XGBoost\n",
        "test_xgb = test_fe.drop(columns=['Date'] + (['Sales'] if 'Sales' in test_fe.columns else []))"
      ],
      "metadata": {
        "id": "xZPR-7fMyPHw"
      },
      "execution_count": 8,
      "outputs": []
    },
    {
      "cell_type": "code",
      "source": [
        "def prepare_cnn_input(df, window=14):\n",
        "    df = df.drop(columns=['Date'])\n",
        "    df = df.bfill()\n",
        "    if 'Sales' in df.columns:\n",
        "        df = df.drop(columns=['Sales'])\n",
        "    X_scaled = StandardScaler().fit_transform(df)\n",
        "    X_seq = [X_scaled[i-window:i] for i in range(window, len(X_scaled))]\n",
        "    return np.array(X_seq)\n",
        "\n",
        "X_cnn = prepare_cnn_input(test_fe)\n",
        "X_xgb = test_xgb.iloc[-len(X_cnn):].copy()"
      ],
      "metadata": {
        "id": "AiwzeHE2yQ2z"
      },
      "execution_count": 9,
      "outputs": []
    },
    {
      "cell_type": "code",
      "source": [
        "# Align XGBoost input columns\n",
        "for col in model_xgb.feature_names:\n",
        "    if col not in X_xgb.columns:\n",
        "        X_xgb[col] = 0\n",
        "X_xgb = X_xgb[model_xgb.feature_names]"
      ],
      "metadata": {
        "id": "j86xxeklySI4"
      },
      "execution_count": 10,
      "outputs": []
    },
    {
      "cell_type": "code",
      "source": [
        "xgb_preds = model_xgb.predict(xgb.DMatrix(X_xgb))\n",
        "cnn_scaled_preds = model_cnnlstm.predict(X_cnn).flatten()\n",
        "cnn_preds = scaler.inverse_transform(cnn_scaled_preds.reshape(-1, 1)).flatten()\n",
        "\n",
        "ensemble_preds = 0.5 * xgb_preds + 0.5 * cnn_preds"
      ],
      "metadata": {
        "colab": {
          "base_uri": "https://localhost:8080/"
        },
        "id": "IkrT48SQ8ZjS",
        "outputId": "7d04e2d9-ecfe-43b9-8a06-b41107a6ce3b"
      },
      "execution_count": 11,
      "outputs": [
        {
          "output_type": "stream",
          "name": "stdout",
          "text": [
            "\u001b[1m1284/1284\u001b[0m \u001b[32m━━━━━━━━━━━━━━━━━━━━\u001b[0m\u001b[37m\u001b[0m \u001b[1m4s\u001b[0m 2ms/step\n"
          ]
        }
      ]
    },
    {
      "cell_type": "code",
      "source": [
        "final_ids = test.iloc[-len(ensemble_preds):]['Id'].values\n",
        "submission = pd.DataFrame({\n",
        "    'Id': final_ids,\n",
        "    'Sales': np.expm1(ensemble_preds)  # inverse of log1p\n",
        "})\n",
        "\n",
        "submission.to_csv(\"/content/drive/MyDrive/Sales Forecast/final_submission.csv\", index=False)\n",
        "print(\"✅ Submission saved as final_submission.csv\")"
      ],
      "metadata": {
        "colab": {
          "base_uri": "https://localhost:8080/"
        },
        "id": "94hZlmWT8deR",
        "outputId": "742b9e0c-07e1-46c3-fbad-664a1626eeed"
      },
      "execution_count": 13,
      "outputs": [
        {
          "output_type": "stream",
          "name": "stdout",
          "text": [
            "✅ Submission saved as final_submission.csv\n"
          ]
        }
      ]
    }
  ]
}